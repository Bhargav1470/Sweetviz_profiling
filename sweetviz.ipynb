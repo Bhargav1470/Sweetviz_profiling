{
 "cells": [
  {
   "cell_type": "code",
   "execution_count": 1,
   "metadata": {},
   "outputs": [
    {
     "name": "stdout",
     "output_type": "stream",
     "text": [
      "Collecting sweetviz\n",
      "  Downloading sweetviz-2.3.1-py3-none-any.whl (15.1 MB)\n",
      "\u001b[2K     \u001b[90m━━━━━━━━━━━━━━━━━━━━━━━━━━━━━━━━━━━━━━━━\u001b[0m \u001b[32m15.1/15.1 MB\u001b[0m \u001b[31m10.2 MB/s\u001b[0m eta \u001b[36m0:00:00\u001b[0m00:01\u001b[0m00:01\u001b[0m\n",
      "\u001b[?25hCollecting pandas!=1.0.0,!=1.0.1,!=1.0.2,>=0.25.3\n",
      "  Using cached pandas-2.2.0-cp311-cp311-manylinux_2_17_x86_64.manylinux2014_x86_64.whl (13.0 MB)\n",
      "Collecting numpy>=1.16.0\n",
      "  Using cached numpy-1.26.4-cp311-cp311-manylinux_2_17_x86_64.manylinux2014_x86_64.whl (18.3 MB)\n",
      "Collecting matplotlib>=3.1.3\n",
      "  Using cached matplotlib-3.8.2-cp311-cp311-manylinux_2_17_x86_64.manylinux2014_x86_64.whl (11.6 MB)\n",
      "Collecting tqdm>=4.43.0\n",
      "  Using cached tqdm-4.66.1-py3-none-any.whl (78 kB)\n",
      "Collecting scipy>=1.3.2\n",
      "  Using cached scipy-1.12.0-cp311-cp311-manylinux_2_17_x86_64.manylinux2014_x86_64.whl (38.4 MB)\n",
      "Collecting jinja2>=2.11.1\n",
      "  Using cached Jinja2-3.1.3-py3-none-any.whl (133 kB)\n",
      "Collecting importlib-resources>=1.2.0\n",
      "  Downloading importlib_resources-6.1.1-py3-none-any.whl (33 kB)\n",
      "Collecting MarkupSafe>=2.0\n",
      "  Using cached MarkupSafe-2.1.5-cp311-cp311-manylinux_2_17_x86_64.manylinux2014_x86_64.whl (28 kB)\n",
      "Collecting contourpy>=1.0.1\n",
      "  Using cached contourpy-1.2.0-cp311-cp311-manylinux_2_17_x86_64.manylinux2014_x86_64.whl (313 kB)\n",
      "Collecting cycler>=0.10\n",
      "  Using cached cycler-0.12.1-py3-none-any.whl (8.3 kB)\n",
      "Collecting fonttools>=4.22.0\n",
      "  Downloading fonttools-4.48.1-cp311-cp311-manylinux_2_17_x86_64.manylinux2014_x86_64.whl (4.9 MB)\n",
      "\u001b[2K     \u001b[90m━━━━━━━━━━━━━━━━━━━━━━━━━━━━━━━━━━━━━━━━\u001b[0m \u001b[32m4.9/4.9 MB\u001b[0m \u001b[31m11.3 MB/s\u001b[0m eta \u001b[36m0:00:00\u001b[0m00:01\u001b[0m00:01\u001b[0m\n",
      "\u001b[?25hCollecting kiwisolver>=1.3.1\n",
      "  Using cached kiwisolver-1.4.5-cp311-cp311-manylinux_2_17_x86_64.manylinux2014_x86_64.whl (1.4 MB)\n",
      "Requirement already satisfied: packaging>=20.0 in ./senv/lib/python3.11/site-packages (from matplotlib>=3.1.3->sweetviz) (23.2)\n",
      "Collecting pillow>=8\n",
      "  Using cached pillow-10.2.0-cp311-cp311-manylinux_2_28_x86_64.whl (4.5 MB)\n",
      "Collecting pyparsing>=2.3.1\n",
      "  Using cached pyparsing-3.1.1-py3-none-any.whl (103 kB)\n",
      "Requirement already satisfied: python-dateutil>=2.7 in ./senv/lib/python3.11/site-packages (from matplotlib>=3.1.3->sweetviz) (2.8.2)\n",
      "Collecting pytz>=2020.1\n",
      "  Using cached pytz-2024.1-py2.py3-none-any.whl (505 kB)\n",
      "Collecting tzdata>=2022.7\n",
      "  Using cached tzdata-2023.4-py2.py3-none-any.whl (346 kB)\n",
      "Requirement already satisfied: six>=1.5 in ./senv/lib/python3.11/site-packages (from python-dateutil>=2.7->matplotlib>=3.1.3->sweetviz) (1.16.0)\n",
      "Installing collected packages: pytz, tzdata, tqdm, pyparsing, pillow, numpy, MarkupSafe, kiwisolver, importlib-resources, fonttools, cycler, scipy, pandas, jinja2, contourpy, matplotlib, sweetviz\n",
      "Successfully installed MarkupSafe-2.1.5 contourpy-1.2.0 cycler-0.12.1 fonttools-4.48.1 importlib-resources-6.1.1 jinja2-3.1.3 kiwisolver-1.4.5 matplotlib-3.8.2 numpy-1.26.4 pandas-2.2.0 pillow-10.2.0 pyparsing-3.1.1 pytz-2024.1 scipy-1.12.0 sweetviz-2.3.1 tqdm-4.66.1 tzdata-2023.4\n"
     ]
    }
   ],
   "source": [
    "! pip install sweetviz"
   ]
  },
  {
   "cell_type": "code",
   "execution_count": 21,
   "metadata": {},
   "outputs": [
    {
     "ename": "AttributeError",
     "evalue": "'DataFrame' object has no attribute 'show'",
     "output_type": "error",
     "traceback": [
      "\u001b[0;31m---------------------------------------------------------------------------\u001b[0m",
      "\u001b[0;31mAttributeError\u001b[0m                            Traceback (most recent call last)",
      "\u001b[0;32m/tmp/ipykernel_16235/1101953330.py\u001b[0m in \u001b[0;36m?\u001b[0;34m()\u001b[0m\n\u001b[1;32m      3\u001b[0m \u001b[0;34m\u001b[0m\u001b[0m\n\u001b[1;32m      4\u001b[0m \u001b[0;31m# Load your dataset using pandas\u001b[0m\u001b[0;34m\u001b[0m\u001b[0;34m\u001b[0m\u001b[0m\n\u001b[1;32m      5\u001b[0m \u001b[0mdata\u001b[0m \u001b[0;34m=\u001b[0m \u001b[0mpd\u001b[0m\u001b[0;34m.\u001b[0m\u001b[0mread_csv\u001b[0m\u001b[0;34m(\u001b[0m\u001b[0;34m'gx_new .csv'\u001b[0m\u001b[0;34m)\u001b[0m\u001b[0;34m\u001b[0m\u001b[0;34m\u001b[0m\u001b[0m\n\u001b[1;32m      6\u001b[0m \u001b[0;34m\u001b[0m\u001b[0m\n\u001b[0;32m----> 7\u001b[0;31m \u001b[0mdata\u001b[0m\u001b[0;34m.\u001b[0m\u001b[0mshow\u001b[0m\u001b[0;34m(\u001b[0m\u001b[0;34m)\u001b[0m\u001b[0;34m\u001b[0m\u001b[0;34m\u001b[0m\u001b[0m\n\u001b[0m",
      "\u001b[0;32m~/Desktop/Sweetviz/senv/lib/python3.11/site-packages/pandas/core/generic.py\u001b[0m in \u001b[0;36m?\u001b[0;34m(self, name)\u001b[0m\n\u001b[1;32m   6289\u001b[0m             \u001b[0;32mand\u001b[0m \u001b[0mname\u001b[0m \u001b[0;32mnot\u001b[0m \u001b[0;32min\u001b[0m \u001b[0mself\u001b[0m\u001b[0;34m.\u001b[0m\u001b[0m_accessors\u001b[0m\u001b[0;34m\u001b[0m\u001b[0;34m\u001b[0m\u001b[0m\n\u001b[1;32m   6290\u001b[0m             \u001b[0;32mand\u001b[0m \u001b[0mself\u001b[0m\u001b[0;34m.\u001b[0m\u001b[0m_info_axis\u001b[0m\u001b[0;34m.\u001b[0m\u001b[0m_can_hold_identifiers_and_holds_name\u001b[0m\u001b[0;34m(\u001b[0m\u001b[0mname\u001b[0m\u001b[0;34m)\u001b[0m\u001b[0;34m\u001b[0m\u001b[0;34m\u001b[0m\u001b[0m\n\u001b[1;32m   6291\u001b[0m         ):\n\u001b[1;32m   6292\u001b[0m             \u001b[0;32mreturn\u001b[0m \u001b[0mself\u001b[0m\u001b[0;34m[\u001b[0m\u001b[0mname\u001b[0m\u001b[0;34m]\u001b[0m\u001b[0;34m\u001b[0m\u001b[0;34m\u001b[0m\u001b[0m\n\u001b[0;32m-> 6293\u001b[0;31m         \u001b[0;32mreturn\u001b[0m \u001b[0mobject\u001b[0m\u001b[0;34m.\u001b[0m\u001b[0m__getattribute__\u001b[0m\u001b[0;34m(\u001b[0m\u001b[0mself\u001b[0m\u001b[0;34m,\u001b[0m \u001b[0mname\u001b[0m\u001b[0;34m)\u001b[0m\u001b[0;34m\u001b[0m\u001b[0;34m\u001b[0m\u001b[0m\n\u001b[0m",
      "\u001b[0;31mAttributeError\u001b[0m: 'DataFrame' object has no attribute 'show'"
     ]
    }
   ],
   "source": [
    "import sweetviz as sv\n",
    "import pandas as pd\n",
    "\n",
    "# Load your dataset using pandas\n",
    "data = pd.read_csv('gx_new .csv')\n"
   ]
  },
  {
   "cell_type": "code",
   "execution_count": 20,
   "metadata": {},
   "outputs": [
    {
     "name": "stderr",
     "output_type": "stream",
     "text": [
      "/tmp/ipykernel_16235/3480213456.py:11: FutureWarning: DataFrame.applymap has been deprecated. Use DataFrame.map instead.\n",
      "  average_string_length = data.astype(str).applymap(len).mean()\n"
     ]
    }
   ],
   "source": [
    "\n",
    "numeric_data = data.select_dtypes(include=['number'])\n",
    "row_count = len(data)\n",
    "property_count = len(data.columns)\n",
    "empty_property = data.isnull().sum()\n",
    "average = numeric_data.mean()\n",
    "sum_values = numeric_data.sum()\n",
    "median = numeric_data.median()\n",
    "std_deviation = numeric_data.std()\n",
    "data_range = numeric_data.max() - numeric_data.min()\n",
    "value_types = data.dtypes\n",
    "average_string_length = data.astype(str).applymap(len).mean()\n",
    "sample_values = data.head()\n",
    "\n",
    "# Create a summary DataFrame for the calculated metrics\n",
    "metrics_summary = pd.DataFrame({\n",
    "    'Row count': row_count,\n",
    "    'Property count': property_count,\n",
    "    'Empty property count': empty_property,\n",
    "    'Average': average,\n",
    "    'Sum': sum_values,\n",
    "    'Median': median,\n",
    "    'Standard deviation': std_deviation,\n",
    "    'Range': data_range,\n",
    "    'Value types': value_types,\n",
    "    'Average string length': average_string_length\n",
    "})\n",
    "\n"
   ]
  },
  {
   "cell_type": "code",
   "execution_count": 19,
   "metadata": {},
   "outputs": [
    {
     "name": "stderr",
     "output_type": "stream",
     "text": [
      "Done! Use 'show' commands to display/save.   |██████████| [100%]   00:00 -> (00:00 left)\n"
     ]
    },
    {
     "name": "stdout",
     "output_type": "stream",
     "text": [
      "Report report.html was generated! NOTEBOOK/COLAB USERS: the web browser MAY not pop up, regardless, the report IS saved in your notebook/colab files.\n",
      "        Row count  Property count  Empty property count  Average       Sum  \\\n",
      "Age            10               4                     0     36.8     368.0   \n",
      "ID             10               4                     0    404.6    4046.0   \n",
      "Name           10               4                     0      NaN       NaN   \n",
      "Salary         10               4                     0  44628.2  446282.0   \n",
      "\n",
      "         Median  Standard deviation    Range Value types  \\\n",
      "Age        35.0           12.363027     33.0       int64   \n",
      "ID        234.0          286.665581    775.0       int64   \n",
      "Name        NaN                 NaN      NaN      object   \n",
      "Salary  45430.0        10940.371615  31330.0       int64   \n",
      "\n",
      "        Average string length  \n",
      "Age                       2.0  \n",
      "ID                        3.0  \n",
      "Name                      5.4  \n",
      "Salary                    5.0  \n"
     ]
    }
   ],
   "source": [
    "\n",
    "report = sv.analyze(data.drop(columns=numeric_data.columns))\n",
    "\n",
    "# Display the data profile\n",
    "report.show_html('report.html')\n",
    "print(metrics_summary)"
   ]
  },
  {
   "cell_type": "code",
   "execution_count": 13,
   "metadata": {},
   "outputs": [
    {
     "name": "stdout",
     "output_type": "stream",
     "text": [
      "Collecting tabulate\n",
      "  Downloading tabulate-0.9.0-py3-none-any.whl (35 kB)\n",
      "Installing collected packages: tabulate\n",
      "Successfully installed tabulate-0.9.0\n"
     ]
    }
   ],
   "source": [
    "! pip install tabulate\n"
   ]
  },
  {
   "cell_type": "code",
   "execution_count": 22,
   "metadata": {},
   "outputs": [
    {
     "name": "stderr",
     "output_type": "stream",
     "text": [
      "/tmp/ipykernel_16235/2416527370.py:19: FutureWarning: DataFrame.applymap has been deprecated. Use DataFrame.map instead.\n",
      "  average_string_length = data.astype(str).applymap(len).mean()\n",
      "Done! Use 'show' commands to display/save.   |██████████| [100%]   00:00 -> (00:00 left)\n"
     ]
    },
    {
     "name": "stdout",
     "output_type": "stream",
     "text": [
      "Report report.html was generated! NOTEBOOK/COLAB USERS: the web browser MAY not pop up, regardless, the report IS saved in your notebook/colab files.\n"
     ]
    },
    {
     "data": {
      "text/plain": [
       "429382"
      ]
     },
     "execution_count": 22,
     "metadata": {},
     "output_type": "execute_result"
    }
   ],
   "source": [
    "import sweetviz as sv\n",
    "import pandas as pd\n",
    "from pathlib import Path\n",
    "\n",
    "# Load your dataset using pandas\n",
    "data = pd.read_csv('gx_new .csv')\n",
    "\n",
    "# Calculate basic statistics for numeric columns\n",
    "numeric_data = data.select_dtypes(include=['number'])\n",
    "row_count = len(data)\n",
    "property_count = len(data.columns)\n",
    "empty_property = data.isnull().sum()\n",
    "average = numeric_data.mean()\n",
    "sum_values = numeric_data.sum()\n",
    "median = numeric_data.median()\n",
    "std_deviation = numeric_data.std()\n",
    "data_range = numeric_data.max() - numeric_data.min()\n",
    "value_types = data.dtypes\n",
    "average_string_length = data.astype(str).applymap(len).mean()\n",
    "sample_values = data.head()\n",
    "\n",
    "# Create a summary DataFrame for the calculated metrics\n",
    "metrics_summary = pd.DataFrame({\n",
    "    'Row count': row_count,\n",
    "    'Property count': property_count,\n",
    "    'Empty property count': empty_property,\n",
    "    'Average': average,\n",
    "    'Sum': sum_values,\n",
    "    'Median': median,\n",
    "    'Standard deviation': std_deviation,\n",
    "    'Range': data_range,\n",
    "    'Value types': value_types,\n",
    "    'Average string length': average_string_length\n",
    "})\n",
    "\n",
    "\n",
    "\n",
    "report = sv.analyze(data.drop(columns=numeric_data.columns))\n",
    "\n",
    "\n",
    "report_html_path = Path('report.html')\n",
    "report.show_html(str(report_html_path))\n",
    "\n",
    "\n",
    "report_html_content = report_html_path.read_text()\n",
    "\n",
    "insert_position = report_html_content.find('</body>')\n",
    "metrics_summary_html = f\"<br><br><br><br><br><br><br><br><br><br><br><br><br><br><br><br><br><br><br><h2>Summary Metrics</h2>{metrics_summary.to_html()}\"\n",
    "\n",
    "\n",
    "report_html_content_with_metrics = report_html_content[:insert_position] + metrics_summary_html + report_html_content[insert_position:]\n",
    "\n",
    "report_with_metrics_html_path = Path('report_with_metrics.html')\n",
    "report_with_metrics_html_path.write_text(report_html_content_with_metrics)\n"
   ]
  }
 ],
 "metadata": {
  "kernelspec": {
   "display_name": "senv",
   "language": "python",
   "name": "python3"
  },
  "language_info": {
   "codemirror_mode": {
    "name": "ipython",
    "version": 3
   },
   "file_extension": ".py",
   "mimetype": "text/x-python",
   "name": "python",
   "nbconvert_exporter": "python",
   "pygments_lexer": "ipython3",
   "version": "3.11.4"
  }
 },
 "nbformat": 4,
 "nbformat_minor": 2
}
